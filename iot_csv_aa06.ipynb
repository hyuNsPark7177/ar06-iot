{
  "nbformat": 4,
  "nbformat_minor": 0,
  "metadata": {
    "colab": {
      "name": "iot_csv_aa06.ipynb",
      "version": "0.3.2",
      "provenance": [],
      "collapsed_sections": [],
      "toc_visible": true,
      "include_colab_link": true
    },
    "kernelspec": {
      "display_name": "Python 3",
      "language": "python",
      "name": "python3"
    }
  },
  "cells": [
    {
      "cell_type": "markdown",
      "metadata": {
        "id": "view-in-github",
        "colab_type": "text"
      },
      "source": [
        "<a href=\"https://colab.research.google.com/github/hyuNsPark7177/ar06-iot/blob/master/iot_csv_aa06.ipynb\" target=\"_parent\"><img src=\"https://colab.research.google.com/assets/colab-badge.svg\" alt=\"Open In Colab\"/></a>"
      ]
    },
    {
      "metadata": {
        "id": "4RyKlSBw1DjY",
        "colab_type": "text"
      },
      "cell_type": "markdown",
      "source": [
        "### Pandas: Loading the remote csv file\n",
        "\n",
        "> [Pandas: Tutorial-reas_csv()](https://www.marsja.se/pandas-read-csv-tutorial-to-csv/amp/)"
      ]
    },
    {
      "metadata": {
        "id": "y8KjEOPg1Dja",
        "colab_type": "code",
        "colab": {}
      },
      "cell_type": "code",
      "source": [
        "import pandas as pd"
      ],
      "execution_count": 0,
      "outputs": []
    },
    {
      "metadata": {
        "id": "N4sYnKbu1Djg",
        "colab_type": "code",
        "colab": {}
      },
      "cell_type": "code",
      "source": [
        "\n",
        "c=pd.read_csv(\"AA06_s1000.csv\", index_col='date')"
      ],
      "execution_count": 0,
      "outputs": []
    },
    {
      "metadata": {
        "id": "MfB0c8tr1Djj",
        "colab_type": "code",
        "outputId": "6e16d608-d2b8-4e5b-c222-055f70f43825",
        "colab": {
          "base_uri": "https://localhost:8080/",
          "height": 35
        }
      },
      "cell_type": "code",
      "source": [
        "c.shape"
      ],
      "execution_count": 32,
      "outputs": [
        {
          "output_type": "execute_result",
          "data": {
            "text/plain": [
              "(1000, 3)"
            ]
          },
          "metadata": {
            "tags": []
          },
          "execution_count": 32
        }
      ]
    },
    {
      "metadata": {
        "id": "MUu_bm7xrxww",
        "colab_type": "text"
      },
      "cell_type": "markdown",
      "source": [
        ""
      ]
    },
    {
      "metadata": {
        "id": "TYGSDEGP1DlE",
        "colab_type": "text"
      },
      "cell_type": "markdown",
      "source": [
        "## Plot the change of sensor data over various time spans.\n",
        "\n",
        "- resample the data at different frequency\n",
        "- time span: 60 sec, 1 hour, 1 day, 1 week"
      ]
    },
    {
      "metadata": {
        "id": "dPgcIFOP1DlF",
        "colab_type": "code",
        "outputId": "3283e7ed-ed55-4eb7-9df8-4dc0490980a4",
        "colab": {
          "base_uri": "https://localhost:8080/",
          "height": 161
        }
      },
      "cell_type": "code",
      "source": [
        "iot_s.info()"
      ],
      "execution_count": 51,
      "outputs": [
        {
          "output_type": "stream",
          "text": [
            "<class 'pandas.core.frame.DataFrame'>\n",
            "Index: 1000 entries, 2018-11-27 18:01:26.554 to 2018-11-27 18:39:20.124\n",
            "Data columns (total 3 columns):\n",
            "temperature    1000 non-null float64\n",
            "humidity       1000 non-null float64\n",
            "luminosity     1000 non-null int64\n",
            "dtypes: float64(2), int64(1)\n",
            "memory usage: 31.2+ KB\n"
          ],
          "name": "stdout"
        }
      ]
    },
    {
      "metadata": {
        "id": "zr1RA5Ix1DlJ",
        "colab_type": "code",
        "outputId": "70e62017-8269-429f-8754-d0d782f01721",
        "colab": {
          "base_uri": "https://localhost:8080/",
          "height": 35
        }
      },
      "cell_type": "code",
      "source": [
        "# type of index\n",
        "iot_s.index[0], type(iot_s.index[0])"
      ],
      "execution_count": 52,
      "outputs": [
        {
          "output_type": "execute_result",
          "data": {
            "text/plain": [
              "('2018-11-27 18:01:26.554', str)"
            ]
          },
          "metadata": {
            "tags": []
          },
          "execution_count": 52
        }
      ]
    },
    {
      "metadata": {
        "id": "2Tsb1Z9x1DlN",
        "colab_type": "code",
        "colab": {}
      },
      "cell_type": "code",
      "source": [
        "# Convert index to timestamp\n",
        "iot_s.index = pd.to_datetime(iot_s.index)"
      ],
      "execution_count": 0,
      "outputs": []
    },
    {
      "metadata": {
        "id": "9mAeysp31DlU",
        "colab_type": "code",
        "outputId": "13b727eb-b0fc-4695-fd56-b3262396917f",
        "colab": {
          "base_uri": "https://localhost:8080/",
          "height": 161
        }
      },
      "cell_type": "code",
      "source": [
        "iot_s.info()"
      ],
      "execution_count": 54,
      "outputs": [
        {
          "output_type": "stream",
          "text": [
            "<class 'pandas.core.frame.DataFrame'>\n",
            "DatetimeIndex: 1000 entries, 2018-11-27 18:01:26.554000 to 2018-11-27 18:39:20.124000\n",
            "Data columns (total 3 columns):\n",
            "temperature    1000 non-null float64\n",
            "humidity       1000 non-null float64\n",
            "luminosity     1000 non-null int64\n",
            "dtypes: float64(2), int64(1)\n",
            "memory usage: 31.2 KB\n"
          ],
          "name": "stdout"
        }
      ]
    },
    {
      "metadata": {
        "id": "p0dZyoMy1DlY",
        "colab_type": "code",
        "outputId": "14820d5b-a4e3-4926-e666-0c3a04d39a1a",
        "colab": {
          "base_uri": "https://localhost:8080/",
          "height": 2000
        }
      },
      "cell_type": "code",
      "source": [
        "# Estimate the mean of iot_s for every hour\n",
        "iot_s.resample('2S').mean()  # mean per each hour"
      ],
      "execution_count": 63,
      "outputs": [
        {
          "output_type": "execute_result",
          "data": {
            "text/html": [
              "<div>\n",
              "<style scoped>\n",
              "    .dataframe tbody tr th:only-of-type {\n",
              "        vertical-align: middle;\n",
              "    }\n",
              "\n",
              "    .dataframe tbody tr th {\n",
              "        vertical-align: top;\n",
              "    }\n",
              "\n",
              "    .dataframe thead th {\n",
              "        text-align: right;\n",
              "    }\n",
              "</style>\n",
              "<table border=\"1\" class=\"dataframe\">\n",
              "  <thead>\n",
              "    <tr style=\"text-align: right;\">\n",
              "      <th></th>\n",
              "      <th>temperature</th>\n",
              "      <th>humidity</th>\n",
              "      <th>luminosity</th>\n",
              "    </tr>\n",
              "    <tr>\n",
              "      <th>date</th>\n",
              "      <th></th>\n",
              "      <th></th>\n",
              "      <th></th>\n",
              "    </tr>\n",
              "  </thead>\n",
              "  <tbody>\n",
              "    <tr>\n",
              "      <th>2018-11-27 18:01:26</th>\n",
              "      <td>21.3</td>\n",
              "      <td>31.4</td>\n",
              "      <td>58.0</td>\n",
              "    </tr>\n",
              "    <tr>\n",
              "      <th>2018-11-27 18:01:28</th>\n",
              "      <td>21.3</td>\n",
              "      <td>31.4</td>\n",
              "      <td>58.0</td>\n",
              "    </tr>\n",
              "    <tr>\n",
              "      <th>2018-11-27 18:01:30</th>\n",
              "      <td>21.3</td>\n",
              "      <td>31.4</td>\n",
              "      <td>57.0</td>\n",
              "    </tr>\n",
              "    <tr>\n",
              "      <th>2018-11-27 18:01:32</th>\n",
              "      <td>21.3</td>\n",
              "      <td>31.4</td>\n",
              "      <td>58.0</td>\n",
              "    </tr>\n",
              "    <tr>\n",
              "      <th>2018-11-27 18:01:34</th>\n",
              "      <td>21.3</td>\n",
              "      <td>31.5</td>\n",
              "      <td>53.0</td>\n",
              "    </tr>\n",
              "    <tr>\n",
              "      <th>2018-11-27 18:01:36</th>\n",
              "      <td>21.3</td>\n",
              "      <td>31.5</td>\n",
              "      <td>50.0</td>\n",
              "    </tr>\n",
              "    <tr>\n",
              "      <th>2018-11-27 18:01:38</th>\n",
              "      <td>NaN</td>\n",
              "      <td>NaN</td>\n",
              "      <td>NaN</td>\n",
              "    </tr>\n",
              "    <tr>\n",
              "      <th>2018-11-27 18:01:40</th>\n",
              "      <td>21.2</td>\n",
              "      <td>31.4</td>\n",
              "      <td>51.0</td>\n",
              "    </tr>\n",
              "    <tr>\n",
              "      <th>2018-11-27 18:01:42</th>\n",
              "      <td>21.3</td>\n",
              "      <td>31.5</td>\n",
              "      <td>50.0</td>\n",
              "    </tr>\n",
              "    <tr>\n",
              "      <th>2018-11-27 18:01:44</th>\n",
              "      <td>21.3</td>\n",
              "      <td>31.6</td>\n",
              "      <td>54.0</td>\n",
              "    </tr>\n",
              "    <tr>\n",
              "      <th>2018-11-27 18:01:46</th>\n",
              "      <td>21.3</td>\n",
              "      <td>31.6</td>\n",
              "      <td>49.0</td>\n",
              "    </tr>\n",
              "    <tr>\n",
              "      <th>2018-11-27 18:01:48</th>\n",
              "      <td>21.3</td>\n",
              "      <td>31.6</td>\n",
              "      <td>51.0</td>\n",
              "    </tr>\n",
              "    <tr>\n",
              "      <th>2018-11-27 18:01:50</th>\n",
              "      <td>21.3</td>\n",
              "      <td>31.6</td>\n",
              "      <td>51.0</td>\n",
              "    </tr>\n",
              "    <tr>\n",
              "      <th>2018-11-27 18:01:52</th>\n",
              "      <td>21.2</td>\n",
              "      <td>31.5</td>\n",
              "      <td>49.0</td>\n",
              "    </tr>\n",
              "    <tr>\n",
              "      <th>2018-11-27 18:01:54</th>\n",
              "      <td>NaN</td>\n",
              "      <td>NaN</td>\n",
              "      <td>NaN</td>\n",
              "    </tr>\n",
              "    <tr>\n",
              "      <th>2018-11-27 18:01:56</th>\n",
              "      <td>21.3</td>\n",
              "      <td>31.6</td>\n",
              "      <td>50.0</td>\n",
              "    </tr>\n",
              "    <tr>\n",
              "      <th>2018-11-27 18:01:58</th>\n",
              "      <td>21.3</td>\n",
              "      <td>31.6</td>\n",
              "      <td>49.0</td>\n",
              "    </tr>\n",
              "    <tr>\n",
              "      <th>2018-11-27 18:02:00</th>\n",
              "      <td>21.2</td>\n",
              "      <td>31.6</td>\n",
              "      <td>49.0</td>\n",
              "    </tr>\n",
              "    <tr>\n",
              "      <th>2018-11-27 18:02:02</th>\n",
              "      <td>21.3</td>\n",
              "      <td>31.8</td>\n",
              "      <td>49.0</td>\n",
              "    </tr>\n",
              "    <tr>\n",
              "      <th>2018-11-27 18:02:04</th>\n",
              "      <td>21.3</td>\n",
              "      <td>32.2</td>\n",
              "      <td>48.0</td>\n",
              "    </tr>\n",
              "    <tr>\n",
              "      <th>2018-11-27 18:02:06</th>\n",
              "      <td>21.3</td>\n",
              "      <td>32.5</td>\n",
              "      <td>48.0</td>\n",
              "    </tr>\n",
              "    <tr>\n",
              "      <th>2018-11-27 18:02:08</th>\n",
              "      <td>21.3</td>\n",
              "      <td>32.8</td>\n",
              "      <td>48.0</td>\n",
              "    </tr>\n",
              "    <tr>\n",
              "      <th>2018-11-27 18:02:10</th>\n",
              "      <td>NaN</td>\n",
              "      <td>NaN</td>\n",
              "      <td>NaN</td>\n",
              "    </tr>\n",
              "    <tr>\n",
              "      <th>2018-11-27 18:02:12</th>\n",
              "      <td>21.3</td>\n",
              "      <td>33.1</td>\n",
              "      <td>49.0</td>\n",
              "    </tr>\n",
              "    <tr>\n",
              "      <th>2018-11-27 18:02:14</th>\n",
              "      <td>21.3</td>\n",
              "      <td>33.5</td>\n",
              "      <td>47.0</td>\n",
              "    </tr>\n",
              "    <tr>\n",
              "      <th>2018-11-27 18:02:16</th>\n",
              "      <td>21.3</td>\n",
              "      <td>33.5</td>\n",
              "      <td>48.0</td>\n",
              "    </tr>\n",
              "    <tr>\n",
              "      <th>2018-11-27 18:02:18</th>\n",
              "      <td>21.3</td>\n",
              "      <td>33.5</td>\n",
              "      <td>48.0</td>\n",
              "    </tr>\n",
              "    <tr>\n",
              "      <th>2018-11-27 18:02:20</th>\n",
              "      <td>21.3</td>\n",
              "      <td>33.4</td>\n",
              "      <td>50.0</td>\n",
              "    </tr>\n",
              "    <tr>\n",
              "      <th>2018-11-27 18:02:22</th>\n",
              "      <td>21.3</td>\n",
              "      <td>33.2</td>\n",
              "      <td>49.0</td>\n",
              "    </tr>\n",
              "    <tr>\n",
              "      <th>2018-11-27 18:02:24</th>\n",
              "      <td>21.3</td>\n",
              "      <td>33.1</td>\n",
              "      <td>47.0</td>\n",
              "    </tr>\n",
              "    <tr>\n",
              "      <th>...</th>\n",
              "      <td>...</td>\n",
              "      <td>...</td>\n",
              "      <td>...</td>\n",
              "    </tr>\n",
              "    <tr>\n",
              "      <th>2018-11-27 18:38:22</th>\n",
              "      <td>21.9</td>\n",
              "      <td>31.7</td>\n",
              "      <td>50.0</td>\n",
              "    </tr>\n",
              "    <tr>\n",
              "      <th>2018-11-27 18:38:24</th>\n",
              "      <td>21.9</td>\n",
              "      <td>31.8</td>\n",
              "      <td>50.0</td>\n",
              "    </tr>\n",
              "    <tr>\n",
              "      <th>2018-11-27 18:38:26</th>\n",
              "      <td>21.9</td>\n",
              "      <td>32.0</td>\n",
              "      <td>50.0</td>\n",
              "    </tr>\n",
              "    <tr>\n",
              "      <th>2018-11-27 18:38:28</th>\n",
              "      <td>NaN</td>\n",
              "      <td>NaN</td>\n",
              "      <td>NaN</td>\n",
              "    </tr>\n",
              "    <tr>\n",
              "      <th>2018-11-27 18:38:30</th>\n",
              "      <td>21.9</td>\n",
              "      <td>32.0</td>\n",
              "      <td>50.0</td>\n",
              "    </tr>\n",
              "    <tr>\n",
              "      <th>2018-11-27 18:38:32</th>\n",
              "      <td>21.9</td>\n",
              "      <td>32.0</td>\n",
              "      <td>55.0</td>\n",
              "    </tr>\n",
              "    <tr>\n",
              "      <th>2018-11-27 18:38:34</th>\n",
              "      <td>21.9</td>\n",
              "      <td>32.0</td>\n",
              "      <td>54.0</td>\n",
              "    </tr>\n",
              "    <tr>\n",
              "      <th>2018-11-27 18:38:36</th>\n",
              "      <td>21.9</td>\n",
              "      <td>32.0</td>\n",
              "      <td>51.0</td>\n",
              "    </tr>\n",
              "    <tr>\n",
              "      <th>2018-11-27 18:38:38</th>\n",
              "      <td>21.9</td>\n",
              "      <td>32.0</td>\n",
              "      <td>48.0</td>\n",
              "    </tr>\n",
              "    <tr>\n",
              "      <th>2018-11-27 18:38:40</th>\n",
              "      <td>21.9</td>\n",
              "      <td>32.1</td>\n",
              "      <td>47.0</td>\n",
              "    </tr>\n",
              "    <tr>\n",
              "      <th>2018-11-27 18:38:42</th>\n",
              "      <td>21.9</td>\n",
              "      <td>32.1</td>\n",
              "      <td>47.0</td>\n",
              "    </tr>\n",
              "    <tr>\n",
              "      <th>2018-11-27 18:38:44</th>\n",
              "      <td>21.9</td>\n",
              "      <td>32.1</td>\n",
              "      <td>47.0</td>\n",
              "    </tr>\n",
              "    <tr>\n",
              "      <th>2018-11-27 18:38:46</th>\n",
              "      <td>NaN</td>\n",
              "      <td>NaN</td>\n",
              "      <td>NaN</td>\n",
              "    </tr>\n",
              "    <tr>\n",
              "      <th>2018-11-27 18:38:48</th>\n",
              "      <td>21.9</td>\n",
              "      <td>32.1</td>\n",
              "      <td>47.0</td>\n",
              "    </tr>\n",
              "    <tr>\n",
              "      <th>2018-11-27 18:38:50</th>\n",
              "      <td>21.9</td>\n",
              "      <td>32.2</td>\n",
              "      <td>47.0</td>\n",
              "    </tr>\n",
              "    <tr>\n",
              "      <th>2018-11-27 18:38:52</th>\n",
              "      <td>21.9</td>\n",
              "      <td>32.3</td>\n",
              "      <td>47.0</td>\n",
              "    </tr>\n",
              "    <tr>\n",
              "      <th>2018-11-27 18:38:54</th>\n",
              "      <td>21.9</td>\n",
              "      <td>32.3</td>\n",
              "      <td>46.0</td>\n",
              "    </tr>\n",
              "    <tr>\n",
              "      <th>2018-11-27 18:38:56</th>\n",
              "      <td>21.9</td>\n",
              "      <td>32.3</td>\n",
              "      <td>47.0</td>\n",
              "    </tr>\n",
              "    <tr>\n",
              "      <th>2018-11-27 18:38:58</th>\n",
              "      <td>21.9</td>\n",
              "      <td>32.3</td>\n",
              "      <td>48.0</td>\n",
              "    </tr>\n",
              "    <tr>\n",
              "      <th>2018-11-27 18:39:00</th>\n",
              "      <td>21.9</td>\n",
              "      <td>32.3</td>\n",
              "      <td>50.0</td>\n",
              "    </tr>\n",
              "    <tr>\n",
              "      <th>2018-11-27 18:39:02</th>\n",
              "      <td>NaN</td>\n",
              "      <td>NaN</td>\n",
              "      <td>NaN</td>\n",
              "    </tr>\n",
              "    <tr>\n",
              "      <th>2018-11-27 18:39:04</th>\n",
              "      <td>21.9</td>\n",
              "      <td>32.2</td>\n",
              "      <td>50.0</td>\n",
              "    </tr>\n",
              "    <tr>\n",
              "      <th>2018-11-27 18:39:06</th>\n",
              "      <td>21.9</td>\n",
              "      <td>32.1</td>\n",
              "      <td>49.0</td>\n",
              "    </tr>\n",
              "    <tr>\n",
              "      <th>2018-11-27 18:39:08</th>\n",
              "      <td>21.9</td>\n",
              "      <td>32.1</td>\n",
              "      <td>49.0</td>\n",
              "    </tr>\n",
              "    <tr>\n",
              "      <th>2018-11-27 18:39:10</th>\n",
              "      <td>21.9</td>\n",
              "      <td>32.1</td>\n",
              "      <td>49.0</td>\n",
              "    </tr>\n",
              "    <tr>\n",
              "      <th>2018-11-27 18:39:12</th>\n",
              "      <td>21.9</td>\n",
              "      <td>32.0</td>\n",
              "      <td>50.0</td>\n",
              "    </tr>\n",
              "    <tr>\n",
              "      <th>2018-11-27 18:39:14</th>\n",
              "      <td>21.9</td>\n",
              "      <td>32.0</td>\n",
              "      <td>50.0</td>\n",
              "    </tr>\n",
              "    <tr>\n",
              "      <th>2018-11-27 18:39:16</th>\n",
              "      <td>21.9</td>\n",
              "      <td>31.9</td>\n",
              "      <td>49.0</td>\n",
              "    </tr>\n",
              "    <tr>\n",
              "      <th>2018-11-27 18:39:18</th>\n",
              "      <td>NaN</td>\n",
              "      <td>NaN</td>\n",
              "      <td>NaN</td>\n",
              "    </tr>\n",
              "    <tr>\n",
              "      <th>2018-11-27 18:39:20</th>\n",
              "      <td>21.9</td>\n",
              "      <td>31.8</td>\n",
              "      <td>49.0</td>\n",
              "    </tr>\n",
              "  </tbody>\n",
              "</table>\n",
              "<p>1138 rows × 3 columns</p>\n",
              "</div>"
            ],
            "text/plain": [
              "                     temperature  humidity  luminosity\n",
              "date                                                  \n",
              "2018-11-27 18:01:26         21.3      31.4        58.0\n",
              "2018-11-27 18:01:28         21.3      31.4        58.0\n",
              "2018-11-27 18:01:30         21.3      31.4        57.0\n",
              "2018-11-27 18:01:32         21.3      31.4        58.0\n",
              "2018-11-27 18:01:34         21.3      31.5        53.0\n",
              "2018-11-27 18:01:36         21.3      31.5        50.0\n",
              "2018-11-27 18:01:38          NaN       NaN         NaN\n",
              "2018-11-27 18:01:40         21.2      31.4        51.0\n",
              "2018-11-27 18:01:42         21.3      31.5        50.0\n",
              "2018-11-27 18:01:44         21.3      31.6        54.0\n",
              "2018-11-27 18:01:46         21.3      31.6        49.0\n",
              "2018-11-27 18:01:48         21.3      31.6        51.0\n",
              "2018-11-27 18:01:50         21.3      31.6        51.0\n",
              "2018-11-27 18:01:52         21.2      31.5        49.0\n",
              "2018-11-27 18:01:54          NaN       NaN         NaN\n",
              "2018-11-27 18:01:56         21.3      31.6        50.0\n",
              "2018-11-27 18:01:58         21.3      31.6        49.0\n",
              "2018-11-27 18:02:00         21.2      31.6        49.0\n",
              "2018-11-27 18:02:02         21.3      31.8        49.0\n",
              "2018-11-27 18:02:04         21.3      32.2        48.0\n",
              "2018-11-27 18:02:06         21.3      32.5        48.0\n",
              "2018-11-27 18:02:08         21.3      32.8        48.0\n",
              "2018-11-27 18:02:10          NaN       NaN         NaN\n",
              "2018-11-27 18:02:12         21.3      33.1        49.0\n",
              "2018-11-27 18:02:14         21.3      33.5        47.0\n",
              "2018-11-27 18:02:16         21.3      33.5        48.0\n",
              "2018-11-27 18:02:18         21.3      33.5        48.0\n",
              "2018-11-27 18:02:20         21.3      33.4        50.0\n",
              "2018-11-27 18:02:22         21.3      33.2        49.0\n",
              "2018-11-27 18:02:24         21.3      33.1        47.0\n",
              "...                          ...       ...         ...\n",
              "2018-11-27 18:38:22         21.9      31.7        50.0\n",
              "2018-11-27 18:38:24         21.9      31.8        50.0\n",
              "2018-11-27 18:38:26         21.9      32.0        50.0\n",
              "2018-11-27 18:38:28          NaN       NaN         NaN\n",
              "2018-11-27 18:38:30         21.9      32.0        50.0\n",
              "2018-11-27 18:38:32         21.9      32.0        55.0\n",
              "2018-11-27 18:38:34         21.9      32.0        54.0\n",
              "2018-11-27 18:38:36         21.9      32.0        51.0\n",
              "2018-11-27 18:38:38         21.9      32.0        48.0\n",
              "2018-11-27 18:38:40         21.9      32.1        47.0\n",
              "2018-11-27 18:38:42         21.9      32.1        47.0\n",
              "2018-11-27 18:38:44         21.9      32.1        47.0\n",
              "2018-11-27 18:38:46          NaN       NaN         NaN\n",
              "2018-11-27 18:38:48         21.9      32.1        47.0\n",
              "2018-11-27 18:38:50         21.9      32.2        47.0\n",
              "2018-11-27 18:38:52         21.9      32.3        47.0\n",
              "2018-11-27 18:38:54         21.9      32.3        46.0\n",
              "2018-11-27 18:38:56         21.9      32.3        47.0\n",
              "2018-11-27 18:38:58         21.9      32.3        48.0\n",
              "2018-11-27 18:39:00         21.9      32.3        50.0\n",
              "2018-11-27 18:39:02          NaN       NaN         NaN\n",
              "2018-11-27 18:39:04         21.9      32.2        50.0\n",
              "2018-11-27 18:39:06         21.9      32.1        49.0\n",
              "2018-11-27 18:39:08         21.9      32.1        49.0\n",
              "2018-11-27 18:39:10         21.9      32.1        49.0\n",
              "2018-11-27 18:39:12         21.9      32.0        50.0\n",
              "2018-11-27 18:39:14         21.9      32.0        50.0\n",
              "2018-11-27 18:39:16         21.9      31.9        49.0\n",
              "2018-11-27 18:39:18          NaN       NaN         NaN\n",
              "2018-11-27 18:39:20         21.9      31.8        49.0\n",
              "\n",
              "[1138 rows x 3 columns]"
            ]
          },
          "metadata": {
            "tags": []
          },
          "execution_count": 63
        }
      ]
    },
    {
      "metadata": {
        "id": "i3BiiT-L1Dle",
        "colab_type": "code",
        "outputId": "c978ca99-3fd3-44b4-a89e-3622ca3ecb0d",
        "colab": {
          "base_uri": "https://localhost:8080/",
          "height": 421
        }
      },
      "cell_type": "code",
      "source": [
        "#  Plot mean of the iot data per every Minute \n",
        "iot_s.resample('60S').mean().plot(kind='line', marker='o', figsize=(12,6), title='change of temp, humi, and lumi', \n",
        "                                ylim=[0,90])"
      ],
      "execution_count": 64,
      "outputs": [
        {
          "output_type": "execute_result",
          "data": {
            "text/plain": [
              "<matplotlib.axes._subplots.AxesSubplot at 0x7f8c06db4320>"
            ]
          },
          "metadata": {
            "tags": []
          },
          "execution_count": 64
        },
        {
          "output_type": "display_data",
          "data": {
            "image/png": "[encoded data removed]",
            "text/plain": [
              "<matplotlib.figure.Figure at 0x7f8c06206908>"
            ]
          },
          "metadata": {
            "tags": []
          }
        }
      ]
    },
    {
      "metadata": {
        "id": "bY2D055tC8Xu",
        "colab_type": "code",
        "colab": {
          "base_uri": "https://localhost:8080/",
          "height": 421
        },
        "outputId": "ff3acab4-fec8-419e-e8b9-99821a479953"
      },
      "cell_type": "code",
      "source": [
        "#  Plot mean of the iot data per every 5Minute \n",
        "iot_s.resample('300S').mean().plot(kind='line', marker='o',figsize=(12,6), title='change of temp, humi, and lumi', \n",
        "                                ylim=[0,90])"
      ],
      "execution_count": 65,
      "outputs": [
        {
          "output_type": "execute_result",
          "data": {
            "text/plain": [
              "<matplotlib.axes._subplots.AxesSubplot at 0x7f8c06109630>"
            ]
          },
          "metadata": {
            "tags": []
          },
          "execution_count": 65
        },
        {
          "output_type": "display_data",
          "data": {
            "image/png": "[encoded data removed]",
            "text/plain": [
              "<matplotlib.figure.Figure at 0x7f8c06169c18>"
            ]
          },
          "metadata": {
            "tags": []
          }
        }
      ]
    },
    {
      "metadata": {
        "id": "n-OAfm7dDRAu",
        "colab_type": "code",
        "colab": {
          "base_uri": "https://localhost:8080/",
          "height": 421
        },
        "outputId": "2dd1922d-bd62-43d1-d590-e1a97926ab78"
      },
      "cell_type": "code",
      "source": [
        "#  Plot mean of the iot data per every 10Minute \n",
        "iot_s.resample('600S').mean().plot(kind='line', marker='o',figsize=(12,6), title='change of temp, humi, and lumi', \n",
        "                                ylim=[0,90])"
      ],
      "execution_count": 66,
      "outputs": [
        {
          "output_type": "execute_result",
          "data": {
            "text/plain": [
              "<matplotlib.axes._subplots.AxesSubplot at 0x7f8c061029e8>"
            ]
          },
          "metadata": {
            "tags": []
          },
          "execution_count": 66
        },
        {
          "output_type": "display_data",
          "data": {
            "image/png": "[encoded data removed]",
            "text/plain": [
              "<matplotlib.figure.Figure at 0x7f8c06206a58>"
            ]
          },
          "metadata": {
            "tags": []
          }
        }
      ]
    },
    {
      "metadata": {
        "id": "zNs608SE3PxR",
        "colab_type": "text"
      },
      "cell_type": "markdown",
      "source": [
        "\n",
        "\n",
        "---\n",
        "\n"
      ]
    }
  ]
}